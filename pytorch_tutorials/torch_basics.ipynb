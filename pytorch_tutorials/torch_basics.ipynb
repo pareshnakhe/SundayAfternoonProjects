{
 "cells": [
  {
   "cell_type": "markdown",
   "id": "779a2e53-3658-490c-898c-86c59a44a5a8",
   "metadata": {},
   "source": [
    "\n",
    "[Reference](https://pytorch.org/tutorials/beginner/pytorch_with_examples.html)"
   ]
  },
  {
   "cell_type": "markdown",
   "id": "81ffc3d6-0725-4d01-93bf-0c47ce21b1bf",
   "metadata": {
    "jp-MarkdownHeadingCollapsed": true
   },
   "source": [
    "## Fitting a sine wave with third order polynomial - Version 1"
   ]
  },
  {
   "cell_type": "code",
   "execution_count": 1,
   "id": "307c2094-e164-489e-9647-2f39dd27aa59",
   "metadata": {},
   "outputs": [
    {
     "name": "stderr",
     "output_type": "stream",
     "text": [
      "\u001b[34m\u001b[1mwandb\u001b[0m: Currently logged in as: \u001b[33mpnakhe\u001b[0m. Use \u001b[1m`wandb login --relogin`\u001b[0m to force relogin\n",
      "\u001b[34m\u001b[1mwandb\u001b[0m: \u001b[33mWARNING\u001b[0m If you're specifying your api key in code, ensure this code is not shared publicly.\n",
      "\u001b[34m\u001b[1mwandb\u001b[0m: \u001b[33mWARNING\u001b[0m Consider setting the WANDB_API_KEY environment variable, or running `wandb login` from the command line.\n",
      "\u001b[34m\u001b[1mwandb\u001b[0m: Appending key for wandb.data.zalan.do to your netrc file: /Users/pnakhe/.netrc\n"
     ]
    },
    {
     "data": {
      "text/plain": [
       "True"
      ]
     },
     "execution_count": 1,
     "metadata": {},
     "output_type": "execute_result"
    }
   ],
   "source": [
    "import wandb\n",
    "\n",
    "WANDB_API_KEY = 'local-acb620b3ffcec7d4f7c759814696231e09738bc3'\n",
    "wandb.login(key=WANDB_API_KEY, host=\"https://wandb.data.zalan.do\")"
   ]
  },
  {
   "cell_type": "code",
   "execution_count": 2,
   "id": "47a6a42b-91ff-4b99-bde9-d7f521d73b11",
   "metadata": {},
   "outputs": [
    {
     "name": "stdout",
     "output_type": "stream",
     "text": [
      "99 268.88848876953125\n",
      "199 183.880126953125\n",
      "299 126.76875305175781\n",
      "399 88.36322784423828\n",
      "499 62.51424026489258\n",
      "599 45.100738525390625\n",
      "699 33.359134674072266\n",
      "799 25.434368133544922\n",
      "899 20.080432891845703\n",
      "999 16.459674835205078\n",
      "1099 14.008585929870605\n",
      "1199 12.347492218017578\n",
      "1299 11.220602989196777\n",
      "1399 10.455276489257812\n",
      "1499 9.934931755065918\n",
      "1599 9.580737113952637\n",
      "1699 9.339385986328125\n",
      "1799 9.174736976623535\n",
      "1899 9.062277793884277\n",
      "1999 8.985379219055176\n",
      "Result: y = -0.010235917754471302 + 0.8483393788337708 x + 0.0017658653669059277 x^2 + -0.09213535487651825 x^3\n"
     ]
    }
   ],
   "source": [
    "# -*- coding: utf-8 -*-\n",
    "import matplotlib.pyplot as plt\n",
    "import torch\n",
    "import math\n",
    "from datetime import date, timedelta, datetime\n",
    "\n",
    "dtype = torch.float\n",
    "device = torch.device(\"cpu\")\n",
    "# device = torch.device(\"cuda:0\") # Uncomment this to run on GPU\n",
    "\n",
    "# Create random input and output data\n",
    "x = torch.linspace(-math.pi, math.pi, 2000, device=device, dtype=dtype)\n",
    "y = torch.sin(x)\n",
    "\n",
    "# Randomly initialize weights\n",
    "a = torch.randn((), device=device, dtype=dtype)\n",
    "b = torch.randn((), device=device, dtype=dtype)\n",
    "c = torch.randn((), device=device, dtype=dtype)\n",
    "d = torch.randn((), device=device, dtype=dtype)\n",
    "\n",
    "learning_rate = 1e-6\n",
    "for t in range(2000):\n",
    "    # Forward pass: compute predicted y\n",
    "    y_pred = a + b * x + c * x ** 2 + d * x ** 3\n",
    "\n",
    "    # Compute and print loss\n",
    "    loss = (y_pred - y).pow(2).sum().item()\n",
    "    if t % 100 == 99:\n",
    "        print(t, loss)\n",
    "\n",
    "    # Backprop to compute gradients of a, b, c, d with respect to loss\n",
    "    grad_y_pred = 2.0 * (y_pred - y)\n",
    "    grad_a = grad_y_pred.sum()\n",
    "    grad_b = (grad_y_pred * x).sum()\n",
    "    grad_c = (grad_y_pred * x ** 2).sum()\n",
    "    grad_d = (grad_y_pred * x ** 3).sum()\n",
    "\n",
    "    # Update weights using gradient descent\n",
    "    a -= learning_rate * grad_a\n",
    "    b -= learning_rate * grad_b\n",
    "    c -= learning_rate * grad_c\n",
    "    d -= learning_rate * grad_d\n",
    "\n",
    "\n",
    "print(f'Result: y = {a.item()} + {b.item()} x + {c.item()} x^2 + {d.item()} x^3')"
   ]
  },
  {
   "cell_type": "markdown",
   "id": "a08c134d-4c6b-45b5-aebb-74d97fcaeb22",
   "metadata": {
    "jp-MarkdownHeadingCollapsed": true
   },
   "source": [
    "## Fitting a sine wave with third order polynomial - Autograd\n",
    "\n",
    "Using [Autograd](https://www.youtube.com/watch?v=MswxJw-8PvE)\n",
    "\n",
    "For a more detailed view on autograd, see this [tutorial](https://pytorch.org/tutorials/beginner/blitz/autograd_tutorial.html)"
   ]
  },
  {
   "cell_type": "code",
   "execution_count": 15,
   "id": "89b35bd9-d25d-48d9-882e-8478a6949c7f",
   "metadata": {},
   "outputs": [
    {
     "data": {
      "text/html": [
       "Tracking run with wandb version 0.16.5"
      ],
      "text/plain": [
       "<IPython.core.display.HTML object>"
      ]
     },
     "metadata": {},
     "output_type": "display_data"
    },
    {
     "data": {
      "text/html": [
       "Run data is saved locally in <code>/Users/pnakhe/pnakhe_workspace/playground/pytorch_tutorials/wandb/run-20240326_211813-38ypoh8q</code>"
      ],
      "text/plain": [
       "<IPython.core.display.HTML object>"
      ]
     },
     "metadata": {},
     "output_type": "display_data"
    },
    {
     "data": {
      "text/html": [
       "Syncing run <strong><a href='https://wandb.data.zalan.do/pnakhe/torch-demo/runs/38ypoh8q/workspace' target=\"_blank\">autograd</a></strong> to <a href='https://wandb.data.zalan.do/pnakhe/torch-demo' target=\"_blank\">Weights & Biases</a> (<a href='https://wandb.me/run' target=\"_blank\">docs</a>)<br/>"
      ],
      "text/plain": [
       "<IPython.core.display.HTML object>"
      ]
     },
     "metadata": {},
     "output_type": "display_data"
    },
    {
     "data": {
      "text/html": [
       " View project at <a href='https://wandb.data.zalan.do/pnakhe/torch-demo' target=\"_blank\">https://wandb.data.zalan.do/pnakhe/torch-demo</a>"
      ],
      "text/plain": [
       "<IPython.core.display.HTML object>"
      ]
     },
     "metadata": {},
     "output_type": "display_data"
    },
    {
     "data": {
      "text/html": [
       " View run at <a href='https://wandb.data.zalan.do/pnakhe/torch-demo/runs/38ypoh8q/workspace' target=\"_blank\">https://wandb.data.zalan.do/pnakhe/torch-demo/runs/38ypoh8q/workspace</a>"
      ],
      "text/plain": [
       "<IPython.core.display.HTML object>"
      ]
     },
     "metadata": {},
     "output_type": "display_data"
    },
    {
     "name": "stdout",
     "output_type": "stream",
     "text": [
      "99 601.7288818359375\n",
      "199 401.23480224609375\n",
      "299 268.554443359375\n",
      "399 180.7462615966797\n",
      "499 122.63111114501953\n",
      "599 84.16546630859375\n",
      "699 58.704105377197266\n",
      "799 41.84944534301758\n",
      "899 30.691320419311523\n",
      "999 23.303791046142578\n",
      "1099 18.412261962890625\n",
      "1199 15.173089027404785\n",
      "1299 13.027913093566895\n",
      "1399 11.607126235961914\n",
      "1499 10.665970802307129\n",
      "1599 10.042486190795898\n",
      "1699 9.62939453125\n",
      "1799 9.355655670166016\n",
      "1899 9.174233436584473\n",
      "1999 9.053977012634277\n",
      "Result: y = -0.0034639406949281693 + 0.8421239852905273 x + 0.0005975862732157111 x^2 + -0.09125126153230667 x^3\n"
     ]
    },
    {
     "data": {
      "application/vnd.jupyter.widget-view+json": {
       "model_id": "",
       "version_major": 2,
       "version_minor": 0
      },
      "text/plain": [
       "VBox(children=(Label(value='0.030 MB of 0.030 MB uploaded\\r'), FloatProgress(value=1.0, max=1.0)))"
      ]
     },
     "metadata": {},
     "output_type": "display_data"
    },
    {
     "data": {
      "text/html": [
       "W&B sync reduced upload amount by 4.5%             "
      ],
      "text/plain": [
       "<IPython.core.display.HTML object>"
      ]
     },
     "metadata": {},
     "output_type": "display_data"
    },
    {
     "data": {
      "text/html": [
       "<style>\n",
       "    table.wandb td:nth-child(1) { padding: 0 10px; text-align: left ; width: auto;} td:nth-child(2) {text-align: left ; width: 100%}\n",
       "    .wandb-row { display: flex; flex-direction: row; flex-wrap: wrap; justify-content: flex-start; width: 100% }\n",
       "    .wandb-col { display: flex; flex-direction: column; flex-basis: 100%; flex: 1; padding: 10px; }\n",
       "    </style>\n",
       "<div class=\"wandb-row\"><div class=\"wandb-col\"><h3>Run history:</h3><br/><table class=\"wandb\"><tr><td>gradient_a</td><td>▁▂▃▄▅▅▆▆▆▇▇▇▇███████</td></tr><tr><td>iteration</td><td>▁▁▂▂▂▃▃▄▄▄▅▅▅▆▆▇▇▇██</td></tr><tr><td>loss</td><td>█▆▄▃▂▂▂▁▁▁▁▁▁▁▁▁▁▁▁▁</td></tr></table><br/></div><div class=\"wandb-col\"><h3>Run summary:</h3><br/><table class=\"wandb\"><tr><td>gradient_a</td><td>-5.99437</td></tr><tr><td>iteration</td><td>1999</td></tr><tr><td>loss</td><td>9.05398</td></tr></table><br/></div></div>"
      ],
      "text/plain": [
       "<IPython.core.display.HTML object>"
      ]
     },
     "metadata": {},
     "output_type": "display_data"
    },
    {
     "data": {
      "text/html": [
       " View run <strong style=\"color:#cdcd00\">autograd</strong> at: <a href='https://wandb.data.zalan.do/pnakhe/torch-demo/runs/38ypoh8q/workspace' target=\"_blank\">https://wandb.data.zalan.do/pnakhe/torch-demo/runs/38ypoh8q/workspace</a><br/>Synced 5 W&B file(s), 0 media file(s), 4 artifact file(s) and 1 other file(s)"
      ],
      "text/plain": [
       "<IPython.core.display.HTML object>"
      ]
     },
     "metadata": {},
     "output_type": "display_data"
    },
    {
     "data": {
      "text/html": [
       "Find logs at: <code>./wandb/run-20240326_211813-38ypoh8q/logs</code>"
      ],
      "text/plain": [
       "<IPython.core.display.HTML object>"
      ]
     },
     "metadata": {},
     "output_type": "display_data"
    }
   ],
   "source": [
    "a = torch.randn((), dtype=dtype, requires_grad=True)\n",
    "b = torch.randn((), dtype=dtype, requires_grad=True)\n",
    "c = torch.randn((), dtype=dtype, requires_grad=True)\n",
    "d = torch.randn((), dtype=dtype, requires_grad=True)\n",
    "\n",
    "learning_rate = 1e-6\n",
    "\n",
    "wandb.init(\n",
    "    project=\"torch-demo\",\n",
    "    job_type=\"model_training\",\n",
    "    name=f\"autograd_{datetime.now().strftime(\"%Y%m%d%H%M\")}\",\n",
    "    config=dict(learning_date=learning_rate)\n",
    ")\n",
    "\n",
    "for t in range(2000):\n",
    "    # Forward pass: compute predicted y\n",
    "    y_pred = a + b * x + c * x ** 2 + d * x ** 3\n",
    "\n",
    "    # Now loss is a Tensor of shape (1,)\n",
    "    loss = (y_pred - y).pow(2).sum()\n",
    "\n",
    "    # Use autograd to compute the backward pass. This call will compute the\n",
    "    # gradient of loss with respect to all Tensors with requires_grad=True.\n",
    "    # After this call a.grad, b.grad. c.grad and d.grad will be Tensors holding\n",
    "    # the gradient of the loss with respect to a, b, c, d respectively.\n",
    "    loss.backward()\n",
    "\n",
    "    if t % 100 == 99:\n",
    "        print(t, loss.item())\n",
    "        wandb.log({\n",
    "            \"loss\": loss.item(), \n",
    "            \"gradient_a\":a.grad.item(),\n",
    "            \"iteration\": t})\n",
    "    # Manually update weights using gradient descent. Wrap in torch.no_grad()\n",
    "    # because weights have requires_grad=True, but we don't need to track this\n",
    "    # in autograd.\n",
    "    with torch.no_grad():\n",
    "        a -= learning_rate * a.grad\n",
    "        b -= learning_rate * b.grad\n",
    "        c -= learning_rate * c.grad\n",
    "        d -= learning_rate * d.grad\n",
    "\n",
    "        # Manually zero the gradients after updating weights\n",
    "        a.grad = None\n",
    "        b.grad = None\n",
    "        c.grad = None\n",
    "        d.grad = None\n",
    "\n",
    "\n",
    "print(f'Result: y = {a.item()} + {b.item()} x + {c.item()} x^2 + {d.item()} x^3')\n",
    "wandb.finish()"
   ]
  },
  {
   "cell_type": "markdown",
   "id": "a2fb23ba-5eb5-4298-bd0d-b9c375e4b5ac",
   "metadata": {
    "jp-MarkdownHeadingCollapsed": true
   },
   "source": [
    "## Defining new autograd functions"
   ]
  },
  {
   "cell_type": "code",
   "execution_count": 3,
   "id": "df0c531e-16f2-42b7-a83d-97dfc1bc2cf7",
   "metadata": {},
   "outputs": [],
   "source": [
    "class LegendrePoly(torch.autograd.Function):\n",
    "\n",
    "    @staticmethod\n",
    "    def forward(ctx, input):\n",
    "        ctx.save_for_backward(input)\n",
    "        return 0.5 * (5 * input**3 - 3 * input)\n",
    "\n",
    "    @staticmethod\n",
    "    def backward(ctx, grad_output):\n",
    "        input, = ctx.saved_tensors\n",
    "        return grad_output * 1.5 * (5 * input**2 - 1)"
   ]
  },
  {
   "cell_type": "code",
   "execution_count": 27,
   "id": "c7a74c4c-4186-44c5-beeb-a0bf1ab0bcf4",
   "metadata": {},
   "outputs": [
    {
     "data": {
      "image/png": "[encoded data removed]",
      "text/plain": [
       "<Figure size 700x400 with 1 Axes>"
      ]
     },
     "metadata": {},
     "output_type": "display_data"
    },
    {
     "data": {
      "text/html": [
       "Tracking run with wandb version 0.16.5"
      ],
      "text/plain": [
       "<IPython.core.display.HTML object>"
      ]
     },
     "metadata": {},
     "output_type": "display_data"
    },
    {
     "data": {
      "text/html": [
       "Run data is saved locally in <code>/Users/pnakhe/pnakhe_workspace/playground/pytorch_tutorials/wandb/run-20240328_230146-e2z3gdo1</code>"
      ],
      "text/plain": [
       "<IPython.core.display.HTML object>"
      ]
     },
     "metadata": {},
     "output_type": "display_data"
    },
    {
     "data": {
      "text/html": [
       "Syncing run <strong><a href='https://wandb.data.zalan.do/pnakhe/torch-demo/runs/e2z3gdo1/workspace' target=\"_blank\">autograd_202403282301</a></strong> to <a href='https://wandb.data.zalan.do/pnakhe/torch-demo' target=\"_blank\">Weights & Biases</a> (<a href='https://wandb.me/run' target=\"_blank\">docs</a>)<br/>"
      ],
      "text/plain": [
       "<IPython.core.display.HTML object>"
      ]
     },
     "metadata": {},
     "output_type": "display_data"
    },
    {
     "data": {
      "text/html": [
       " View project at <a href='https://wandb.data.zalan.do/pnakhe/torch-demo' target=\"_blank\">https://wandb.data.zalan.do/pnakhe/torch-demo</a>"
      ],
      "text/plain": [
       "<IPython.core.display.HTML object>"
      ]
     },
     "metadata": {},
     "output_type": "display_data"
    },
    {
     "data": {
      "text/html": [
       " View run at <a href='https://wandb.data.zalan.do/pnakhe/torch-demo/runs/e2z3gdo1/workspace' target=\"_blank\">https://wandb.data.zalan.do/pnakhe/torch-demo/runs/e2z3gdo1/workspace</a>"
      ],
      "text/plain": [
       "<IPython.core.display.HTML object>"
      ]
     },
     "metadata": {},
     "output_type": "display_data"
    },
    {
     "name": "stdout",
     "output_type": "stream",
     "text": [
      "199 124.17093658447266\n",
      "399 61.68357849121094\n",
      "599 33.11712646484375\n",
      "799 20.003429412841797\n",
      "999 13.97114086151123\n",
      "1199 11.193151473999023\n",
      "1399 9.912884712219238\n",
      "1599 9.322577476501465\n",
      "1799 9.050336837768555\n",
      "1999 8.924735069274902\n",
      "Result: y = 1.1761941420829203e-09 + -2.210512161254883 * P3(3.332241704789851e-10 + 0.2554997205734253 x)\n"
     ]
    },
    {
     "data": {
      "application/vnd.jupyter.widget-view+json": {
       "model_id": "",
       "version_major": 2,
       "version_minor": 0
      },
      "text/plain": [
       "VBox(children=(Label(value='1.007 MB of 1.007 MB uploaded (0.074 MB deduped)\\r'), FloatProgress(value=1.0, max…"
      ]
     },
     "metadata": {},
     "output_type": "display_data"
    },
    {
     "data": {
      "text/html": [
       "W&B sync reduced upload amount by 7.4%             "
      ],
      "text/plain": [
       "<IPython.core.display.HTML object>"
      ]
     },
     "metadata": {},
     "output_type": "display_data"
    },
    {
     "data": {
      "text/html": [
       "<style>\n",
       "    table.wandb td:nth-child(1) { padding: 0 10px; text-align: left ; width: auto;} td:nth-child(2) {text-align: left ; width: 100%}\n",
       "    .wandb-row { display: flex; flex-direction: row; flex-wrap: wrap; justify-content: flex-start; width: 100% }\n",
       "    .wandb-col { display: flex; flex-direction: column; flex-basis: 100%; flex: 1; padding: 10px; }\n",
       "    </style>\n",
       "<div class=\"wandb-row\"><div class=\"wandb-col\"><h3>Run history:</h3><br/><table class=\"wandb\"><tr><td>gradient_a</td><td>█▁▁▁▁▁▁▁▁▁</td></tr><tr><td>iteration</td><td>▁▂▃▃▄▅▆▆▇█</td></tr><tr><td>loss</td><td>█▄▂▂▁▁▁▁▁▁</td></tr></table><br/></div><div class=\"wandb-col\"><h3>Run summary:</h3><br/><table class=\"wandb\"><tr><td>gradient_a</td><td>0.0</td></tr><tr><td>iteration</td><td>1999</td></tr><tr><td>loss</td><td>8.92474</td></tr></table><br/></div></div>"
      ],
      "text/plain": [
       "<IPython.core.display.HTML object>"
      ]
     },
     "metadata": {},
     "output_type": "display_data"
    },
    {
     "data": {
      "text/html": [
       " View run <strong style=\"color:#cdcd00\">autograd_202403282301</strong> at: <a href='https://wandb.data.zalan.do/pnakhe/torch-demo/runs/e2z3gdo1/workspace' target=\"_blank\">https://wandb.data.zalan.do/pnakhe/torch-demo/runs/e2z3gdo1/workspace</a><br/>Synced 5 W&B file(s), 10 media file(s), 4 artifact file(s) and 1 other file(s)"
      ],
      "text/plain": [
       "<IPython.core.display.HTML object>"
      ]
     },
     "metadata": {},
     "output_type": "display_data"
    },
    {
     "data": {
      "text/html": [
       "Find logs at: <code>./wandb/run-20240328_230146-e2z3gdo1/logs</code>"
      ],
      "text/plain": [
       "<IPython.core.display.HTML object>"
      ]
     },
     "metadata": {},
     "output_type": "display_data"
    }
   ],
   "source": [
    "a = torch.full((), 0.2, device=device, dtype=dtype, requires_grad=True)\n",
    "b = torch.full((), -1.1, device=device, dtype=dtype, requires_grad=True)\n",
    "c = torch.full((), 0.1, device=device, dtype=dtype, requires_grad=True)\n",
    "d = torch.full((), 0.2, device=device, dtype=dtype, requires_grad=True)\n",
    "\n",
    "# To apply our Function, we use Function.apply method. We alias this as 'P3'.\n",
    "P3 = LegendrePoly.apply\n",
    "\n",
    "fig, ax = plt.subplots(figsize=(7, 4))\n",
    "\n",
    "y_pred = a + b * P3(c + d * x)\n",
    "ax.plot(x.tolist(), y_pred.tolist(), label=\"initial estimate\")\n",
    "ax.plot(x.tolist(), y.tolist(), 'g--', label=\"target\")\n",
    "ax.grid(True)\n",
    "\n",
    "plt.legend()\n",
    "plt.show()\n",
    "\n",
    "learning_rate = 5e-6\n",
    "\n",
    "wandb.init(\n",
    "    project=\"torch-demo\",\n",
    "    job_type=\"model_training\",\n",
    "    group=\"P3\",\n",
    "    name=f\"autograd_{datetime.now().strftime('%Y%m%d%H%M')}\",\n",
    "    config=dict(learning_date=learning_rate)\n",
    ")\n",
    "\n",
    "for t in range(2000):\n",
    "    \n",
    "    # Forward pass: compute predicted y using operations; we compute\n",
    "    # P3 using our custom autograd operation.\n",
    "    y_pred = a + b * P3(c + d * x)\n",
    "\n",
    "    # Compute and print loss\n",
    "    loss = (y_pred - y).pow(2).sum()\n",
    "\n",
    "    # Use autograd to compute the backward pass.\n",
    "    loss.backward()\n",
    "\n",
    "    if t % 200 == 199:\n",
    "        print(t, loss.item())\n",
    "        # plot to see the goodness of fit every 200 rounds\n",
    "        fig, ax = plt.subplots(1, 2, figsize=(15, 6), sharey=True)\n",
    "        ax[0].plot(x.tolist(), y_pred.tolist())\n",
    "        ax[0].grid(True)\n",
    "        \n",
    "        wandb.log({\n",
    "            \"loss\": loss.item(), \n",
    "            \"gradient_a\":a.grad.item(),\n",
    "            \"iteration\": t,\n",
    "            \"fit_plot\": fig})\n",
    "        \n",
    "    # Update weights using gradient descent\n",
    "    with torch.no_grad():\n",
    "        a -= learning_rate * a.grad\n",
    "        b -= learning_rate * b.grad\n",
    "        c -= learning_rate * c.grad\n",
    "        d -= learning_rate * d.grad\n",
    "\n",
    "        # Manually zero the gradients after updating weights\n",
    "        a.grad = None\n",
    "        b.grad = None\n",
    "        c.grad = None\n",
    "        d.grad = None\n",
    "\n",
    "print(f'Result: y = {a.item()} + {b.item()} * P3({c.item()} + {d.item()} x)')\n",
    "\n",
    "wandb.finish()"
   ]
  },
  {
   "cell_type": "markdown",
   "id": "35e1b902-ce0f-4d0d-a571-cba495ebcf24",
   "metadata": {},
   "source": [
    "## nn module"
   ]
  },
  {
   "cell_type": "code",
   "execution_count": 30,
   "id": "9a135368-fe2b-457c-86c1-726162487a69",
   "metadata": {},
   "outputs": [],
   "source": [
    "# help(torch.nn.HuberLoss)"
   ]
  },
  {
   "cell_type": "code",
   "execution_count": 38,
   "id": "ee86e69b-2242-4b08-9f9e-8161b8716f50",
   "metadata": {},
   "outputs": [
    {
     "data": {
      "text/html": [
       "Finishing last run (ID:e7a06bjf) before initializing another..."
      ],
      "text/plain": [
       "<IPython.core.display.HTML object>"
      ]
     },
     "metadata": {},
     "output_type": "display_data"
    },
    {
     "data": {
      "application/vnd.jupyter.widget-view+json": {
       "model_id": "",
       "version_major": 2,
       "version_minor": 0
      },
      "text/plain": [
       "VBox(children=(Label(value='0.180 MB of 0.180 MB uploaded\\r'), FloatProgress(value=1.0, max=1.0)))"
      ]
     },
     "metadata": {},
     "output_type": "display_data"
    },
    {
     "data": {
      "text/html": [
       "W&B sync reduced upload amount by 1.0%             "
      ],
      "text/plain": [
       "<IPython.core.display.HTML object>"
      ]
     },
     "metadata": {},
     "output_type": "display_data"
    },
    {
     "data": {
      "text/html": [
       "<style>\n",
       "    table.wandb td:nth-child(1) { padding: 0 10px; text-align: left ; width: auto;} td:nth-child(2) {text-align: left ; width: 100%}\n",
       "    .wandb-row { display: flex; flex-direction: row; flex-wrap: wrap; justify-content: flex-start; width: 100% }\n",
       "    .wandb-col { display: flex; flex-direction: column; flex-basis: 100%; flex: 1; padding: 10px; }\n",
       "    </style>\n",
       "<div class=\"wandb-row\"><div class=\"wandb-col\"><h3>Run history:</h3><br/><table class=\"wandb\"><tr><td>loss</td><td>███▇▇▇▇▇▇▆▆▆▆▆▅▅▅▅▅▅▄▄▄▄▄▃▃▃▃▃▃▂▂▂▂▂▁▁▁▁</td></tr></table><br/></div><div class=\"wandb-col\"><h3>Run summary:</h3><br/><table class=\"wandb\"><tr><td>loss</td><td>0.74472</td></tr></table><br/></div></div>"
      ],
      "text/plain": [
       "<IPython.core.display.HTML object>"
      ]
     },
     "metadata": {},
     "output_type": "display_data"
    },
    {
     "data": {
      "text/html": [
       " View run <strong style=\"color:#cdcd00\">autograd_202403282325</strong> at: <a href='https://wandb.data.zalan.do/pnakhe/torch-demo/runs/e7a06bjf/workspace' target=\"_blank\">https://wandb.data.zalan.do/pnakhe/torch-demo/runs/e7a06bjf/workspace</a><br/>Synced 5 W&B file(s), 0 media file(s), 5 artifact file(s) and 1 other file(s)"
      ],
      "text/plain": [
       "<IPython.core.display.HTML object>"
      ]
     },
     "metadata": {},
     "output_type": "display_data"
    },
    {
     "data": {
      "text/html": [
       "Find logs at: <code>./wandb/run-20240328_232527-e7a06bjf/logs</code>"
      ],
      "text/plain": [
       "<IPython.core.display.HTML object>"
      ]
     },
     "metadata": {},
     "output_type": "display_data"
    },
    {
     "data": {
      "text/html": [
       "Successfully finished last run (ID:e7a06bjf). Initializing new run:<br/>"
      ],
      "text/plain": [
       "<IPython.core.display.HTML object>"
      ]
     },
     "metadata": {},
     "output_type": "display_data"
    },
    {
     "data": {
      "application/vnd.jupyter.widget-view+json": {
       "model_id": "337e4ee722654b10b3d169614d39e9ea",
       "version_major": 2,
       "version_minor": 0
      },
      "text/plain": [
       "VBox(children=(Label(value='Waiting for wandb.init()...\\r'), FloatProgress(value=0.011118386366676229, max=1.0…"
      ]
     },
     "metadata": {},
     "output_type": "display_data"
    },
    {
     "data": {
      "text/html": [
       "Tracking run with wandb version 0.16.5"
      ],
      "text/plain": [
       "<IPython.core.display.HTML object>"
      ]
     },
     "metadata": {},
     "output_type": "display_data"
    },
    {
     "data": {
      "text/html": [
       "Run data is saved locally in <code>/Users/pnakhe/pnakhe_workspace/playground/pytorch_tutorials/wandb/run-20240328_232724-b3njpzkc</code>"
      ],
      "text/plain": [
       "<IPython.core.display.HTML object>"
      ]
     },
     "metadata": {},
     "output_type": "display_data"
    },
    {
     "data": {
      "text/html": [
       "Syncing run <strong><a href='https://wandb.data.zalan.do/pnakhe/torch-demo/runs/b3njpzkc/workspace' target=\"_blank\">autograd_202403282327</a></strong> to <a href='https://wandb.data.zalan.do/pnakhe/torch-demo' target=\"_blank\">Weights & Biases</a> (<a href='https://wandb.me/run' target=\"_blank\">docs</a>)<br/>"
      ],
      "text/plain": [
       "<IPython.core.display.HTML object>"
      ]
     },
     "metadata": {},
     "output_type": "display_data"
    },
    {
     "data": {
      "text/html": [
       " View project at <a href='https://wandb.data.zalan.do/pnakhe/torch-demo' target=\"_blank\">https://wandb.data.zalan.do/pnakhe/torch-demo</a>"
      ],
      "text/plain": [
       "<IPython.core.display.HTML object>"
      ]
     },
     "metadata": {},
     "output_type": "display_data"
    },
    {
     "data": {
      "text/html": [
       " View run at <a href='https://wandb.data.zalan.do/pnakhe/torch-demo/runs/b3njpzkc/workspace' target=\"_blank\">https://wandb.data.zalan.do/pnakhe/torch-demo/runs/b3njpzkc/workspace</a>"
      ],
      "text/plain": [
       "<IPython.core.display.HTML object>"
      ]
     },
     "metadata": {},
     "output_type": "display_data"
    },
    {
     "name": "stdout",
     "output_type": "stream",
     "text": [
      "99 2.3461103439331055\n",
      "199 2.3409159183502197\n",
      "299 2.335723400115967\n",
      "399 2.3305327892303467\n",
      "499 2.325343370437622\n",
      "599 2.320155382156372\n",
      "699 2.314969062805176\n",
      "799 2.309784173965454\n",
      "899 2.3046014308929443\n",
      "999 2.29941987991333\n",
      "1099 2.2942399978637695\n",
      "1199 2.2890615463256836\n",
      "1299 2.2838847637176514\n",
      "1399 2.27871036529541\n",
      "1499 2.2735369205474854\n",
      "1599 2.2683827877044678\n",
      "1699 2.2632339000701904\n",
      "1799 2.258086681365967\n",
      "1899 2.252941131591797\n",
      "1999 2.2477972507476807\n",
      "Result: y = 0.5625269412994385 + -0.040942855179309845 x + -0.3189057409763336 x^2 + 0.38256391882896423 x^3\n"
     ]
    },
    {
     "data": {
      "application/vnd.jupyter.widget-view+json": {
       "model_id": "",
       "version_major": 2,
       "version_minor": 0
      },
      "text/plain": [
       "VBox(children=(Label(value='0.001 MB of 0.001 MB uploaded\\r'), FloatProgress(value=1.0, max=1.0)))"
      ]
     },
     "metadata": {},
     "output_type": "display_data"
    },
    {
     "data": {
      "text/html": [
       "<style>\n",
       "    table.wandb td:nth-child(1) { padding: 0 10px; text-align: left ; width: auto;} td:nth-child(2) {text-align: left ; width: 100%}\n",
       "    .wandb-row { display: flex; flex-direction: row; flex-wrap: wrap; justify-content: flex-start; width: 100% }\n",
       "    .wandb-col { display: flex; flex-direction: column; flex-basis: 100%; flex: 1; padding: 10px; }\n",
       "    </style>\n",
       "<div class=\"wandb-row\"><div class=\"wandb-col\"><h3>Run history:</h3><br/><table class=\"wandb\"><tr><td>loss</td><td>██▇▇▇▆▆▅▅▅▄▄▄▃▃▂▂▂▁▁</td></tr></table><br/></div><div class=\"wandb-col\"><h3>Run summary:</h3><br/><table class=\"wandb\"><tr><td>loss</td><td>2.2478</td></tr></table><br/></div></div>"
      ],
      "text/plain": [
       "<IPython.core.display.HTML object>"
      ]
     },
     "metadata": {},
     "output_type": "display_data"
    },
    {
     "data": {
      "text/html": [
       " View run <strong style=\"color:#cdcd00\">autograd_202403282327</strong> at: <a href='https://wandb.data.zalan.do/pnakhe/torch-demo/runs/b3njpzkc/workspace' target=\"_blank\">https://wandb.data.zalan.do/pnakhe/torch-demo/runs/b3njpzkc/workspace</a><br/>Synced 5 W&B file(s), 0 media file(s), 0 artifact file(s) and 0 other file(s)"
      ],
      "text/plain": [
       "<IPython.core.display.HTML object>"
      ]
     },
     "metadata": {},
     "output_type": "display_data"
    },
    {
     "data": {
      "text/html": [
       "Find logs at: <code>./wandb/run-20240328_232724-b3njpzkc/logs</code>"
      ],
      "text/plain": [
       "<IPython.core.display.HTML object>"
      ]
     },
     "metadata": {},
     "output_type": "display_data"
    }
   ],
   "source": [
    "# For this example, the output y is a linear function of (x, x^2, x^3), so\n",
    "# we can consider it as a linear layer neural network. Let's prepare the\n",
    "# tensor (x, x^2, x^3).\n",
    "p = torch.tensor([1, 2, 3])\n",
    "xx = x.unsqueeze(-1).pow(p)\n",
    "\n",
    "# Use the nn package to define our model as a sequence of layers. nn.Sequential\n",
    "# is a Module which contains other Modules, and applies them in sequence to\n",
    "# produce its output. The Linear Module computes output from input using a\n",
    "# linear function, and holds internal Tensors for its weight and bias.\n",
    "# The Flatten layer flatens the output of the linear layer to a 1D tensor,\n",
    "# to match the shape of `y`.\n",
    "# See https://pytorch.org/docs/stable/notes/modules.html for custom modules.\n",
    "model = torch.nn.Sequential(\n",
    "    torch.nn.Linear(3, 1),\n",
    "    torch.nn.Flatten(0, 1)\n",
    ")\n",
    "\n",
    "loss_fn = torch.nn.HuberLoss(reduction='mean')\n",
    "\n",
    "wandb.init(\n",
    "    project=\"torch-demo\",\n",
    "    job_type=\"model_training\",\n",
    "    group=\"nn_module\",\n",
    "    name=f\"autograd_{datetime.now().strftime('%Y%m%d%H%M')}\",\n",
    "    config=dict(learning_date=learning_rate)\n",
    ")\n",
    "\n",
    "\n",
    "learning_rate = 1e-6\n",
    "for t in range(2000):\n",
    "\n",
    "    # Forward pass: compute predicted y by passing x to the model. Module objects\n",
    "    # override the __call__ operator so you can call them like functions. When\n",
    "    # doing so you pass a Tensor of input data to the Module and it produces\n",
    "    # a Tensor of output data.\n",
    "    y_pred = model(xx)\n",
    "\n",
    "    # Compute and print loss. We pass Tensors containing the predicted and true\n",
    "    # values of y, and the loss function returns a Tensor containing the\n",
    "    # loss.\n",
    "    loss = loss_fn(y_pred, y)\n",
    "\n",
    "    # Zero the gradients before running the backward pass.\n",
    "    model.zero_grad()\n",
    "\n",
    "    # Backward pass: compute gradient of the loss with respect to all the learnable\n",
    "    # parameters of the model. Internally, the parameters of each Module are stored\n",
    "    # in Tensors with requires_grad=True, so this call will compute gradients for\n",
    "    # all learnable parameters in the model.\n",
    "    loss.backward()\n",
    "    if t % 100 == 99:\n",
    "        print(t, loss.item())\n",
    "        wandb.log({\"loss\": loss})\n",
    "\n",
    "    # Update the weights using gradient descent. Each parameter is a Tensor, so\n",
    "    # we can access its gradients like we did before.\n",
    "    with torch.no_grad():\n",
    "        for param in model.parameters():\n",
    "            param -= learning_rate * param.grad\n",
    "\n",
    "# You can access the first layer of `model` like accessing the first item of a list (Really cool!)\n",
    "linear_layer = model[0]\n",
    "\n",
    "# For linear layer, its parameters are stored as `weight` and `bias`.\n",
    "print(f'Result: y = {linear_layer.bias.item()} + {linear_layer.weight[:, 0].item()} x + {linear_layer.weight[:, 1].item()} x^2 + {linear_layer.weight[:, 2].item()} x^3')\n",
    "\n",
    "wandb.finish()"
   ]
  },
  {
   "cell_type": "code",
   "execution_count": 41,
   "id": "6c780956-31f8-4d36-b791-c76903e32ee5",
   "metadata": {},
   "outputs": [
    {
     "data": {
      "text/plain": [
       "[Parameter containing:\n",
       " tensor([[-0.0409, -0.3189,  0.3826]], requires_grad=True),\n",
       " Parameter containing:\n",
       " tensor([0.5625], requires_grad=True)]"
      ]
     },
     "execution_count": 41,
     "metadata": {},
     "output_type": "execute_result"
    }
   ],
   "source": [
    "[*linear_layer.parameters()]"
   ]
  },
  {
   "cell_type": "markdown",
   "id": "7970d975-aa5f-43c0-8347-d520892e7d80",
   "metadata": {},
   "source": [
    "### Custom NN Modules"
   ]
  },
  {
   "cell_type": "code",
   "execution_count": null,
   "id": "ab426e4d-f819-4393-8c4c-8c21515d7bf7",
   "metadata": {},
   "outputs": [],
   "source": [
    "# -*- coding: utf-8 -*-\n",
    "import torch\n",
    "import math\n",
    "\n",
    "\n",
    "class Polynomial3(torch.nn.Module):\n",
    "    def __init__(self):\n",
    "        \"\"\"\n",
    "        In the constructor we instantiate four parameters and assign them as\n",
    "        member parameters.\n",
    "        \"\"\"\n",
    "        super().__init__()\n",
    "        # note the parameters are instances of torch.nn.Parameter\n",
    "        # I am guess this is to ensure that the Optimizer knows how\n",
    "        # to update them.\n",
    "        self.a = torch.nn.Parameter(torch.randn(()))\n",
    "        self.b = torch.nn.Parameter(torch.randn(()))\n",
    "        self.c = torch.nn.Parameter(torch.randn(()))\n",
    "        self.d = torch.nn.Parameter(torch.randn(()))\n",
    "\n",
    "    def forward(self, x):\n",
    "        \"\"\"\n",
    "        In the forward function we accept a Tensor of input data and we must return\n",
    "        a Tensor of output data. We can use Modules defined in the constructor as\n",
    "        well as arbitrary operators on Tensors.\n",
    "        \"\"\"\n",
    "        return self.a + self.b * x + self.c * x ** 2 + self.d * x ** 3\n",
    "\n",
    "    def string(self):\n",
    "        \"\"\"\n",
    "        Just like any class in Python, you can also define custom method on PyTorch modules\n",
    "        \"\"\"\n",
    "        return f'y = {self.a.item()} + {self.b.item()} x + {self.c.item()} x^2 + {self.d.item()} x^3'\n",
    "\n",
    "\n",
    "# Create Tensors to hold input and outputs.\n",
    "x = torch.linspace(-math.pi, math.pi, 2000)\n",
    "y = torch.sin(x)\n",
    "\n",
    "# Construct our model by instantiating the class defined above\n",
    "model = Polynomial3()\n",
    "\n",
    "# Construct our loss function and an Optimizer. The call to model.parameters()\n",
    "# in the SGD constructor will contain the learnable parameters (defined \n",
    "# with torch.nn.Parameter) which are members of the model.\n",
    "criterion = torch.nn.MSELoss(reduction='sum')\n",
    "optimizer = torch.optim.SGD(model.parameters(), lr=1e-6)\n",
    "for t in range(2000):\n",
    "    # Forward pass: Compute predicted y by passing x to the model\n",
    "    y_pred = model(x)\n",
    "\n",
    "    # Compute and print loss\n",
    "    loss = criterion(y_pred, y)\n",
    "    if t % 100 == 99:\n",
    "        print(t, loss.item())\n",
    "\n",
    "    # Zero gradients, perform a backward pass, and update the weights.\n",
    "    optimizer.zero_grad()\n",
    "    loss.backward()\n",
    "    optimizer.step()\n",
    "\n",
    "print(f'Result: {model.string()}')"
   ]
  }
 ],
 "metadata": {
  "kernelspec": {
   "display_name": "Python 3 (ipykernel)",
   "language": "python",
   "name": "python3"
  },
  "language_info": {
   "codemirror_mode": {
    "name": "ipython",
    "version": 3
   },
   "file_extension": ".py",
   "mimetype": "text/x-python",
   "name": "python",
   "nbconvert_exporter": "python",
   "pygments_lexer": "ipython3",
   "version": "3.8.16"
  }
 },
 "nbformat": 4,
 "nbformat_minor": 5
}

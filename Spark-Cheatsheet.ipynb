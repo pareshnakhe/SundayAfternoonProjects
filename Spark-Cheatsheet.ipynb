{
 "cells": [
  {
   "cell_type": "markdown",
   "id": "b099e75c",
   "metadata": {},
   "source": [
    "## Common Usages of Pandas UDF\n",
    "\n",
    "Vectorized user defined functions that are executed by Spark using [Arrow](https://spark.apache.org/docs/latest/api/python/user_guide/sql/arrow_pandas.html) (to transfer to and from the Pandas format) together with the Pandas library. "
   ]
  },
  {
   "cell_type": "code",
   "execution_count": 1,
   "id": "2bdd861b",
   "metadata": {
    "scrolled": true
   },
   "outputs": [
    {
     "name": "stderr",
     "output_type": "stream",
     "text": [
      "Setting default log level to \"WARN\".\n",
      "To adjust logging level use sc.setLogLevel(newLevel). For SparkR, use setLogLevel(newLevel).\n",
      "23/06/08 16:18:13 WARN NativeCodeLoader: Unable to load native-hadoop library for your platform... using builtin-java classes where applicable\n",
      "[Stage 0:>                                                          (0 + 1) / 1]\r"
     ]
    },
    {
     "name": "stdout",
     "output_type": "stream",
     "text": [
      "+------------+-----------+------------+-----------+-------+\n",
      "|sepal_length|sepal_width|petal_length|petal_width|species|\n",
      "+------------+-----------+------------+-----------+-------+\n",
      "|         5.1|        3.5|         1.4|        0.2| setosa|\n",
      "|         4.9|        3.0|         1.4|        0.2| setosa|\n",
      "|         4.7|        3.2|         1.3|        0.2| setosa|\n",
      "|         4.6|        3.1|         1.5|        0.2| setosa|\n",
      "|         5.0|        3.6|         1.4|        0.2| setosa|\n",
      "+------------+-----------+------------+-----------+-------+\n",
      "only showing top 5 rows\n",
      "\n"
     ]
    },
    {
     "name": "stderr",
     "output_type": "stream",
     "text": [
      "\r",
      "                                                                                \r"
     ]
    }
   ],
   "source": [
    "import seaborn as sns\n",
    "import pandas as pd\n",
    "import numpy as np\n",
    "from pyspark.sql import SparkSession\n",
    "import pyspark.sql.functions as f\n",
    "\n",
    "spark = SparkSession.builder.getOrCreate()\n",
    "\n",
    "iris = spark.createDataFrame(sns.load_dataset('iris'))\n",
    "iris.show(5)"
   ]
  },
  {
   "cell_type": "markdown",
   "id": "76a9989e",
   "metadata": {},
   "source": [
    "## Vectorized operation on a single column\n",
    "\n",
    "### (Series --> Series)"
   ]
  },
  {
   "cell_type": "code",
   "execution_count": 30,
   "id": "f4f2708a",
   "metadata": {},
   "outputs": [
    {
     "name": "stdout",
     "output_type": "stream",
     "text": [
      "+------------+-----------+------------+-----------+-------+------------------------+-------------------+\n",
      "|sepal_length|sepal_width|petal_length|petal_width|species|square_cube_sepal_length|square_sepal_length|\n",
      "+------------+-----------+------------+-----------+-------+------------------------+-------------------+\n",
      "|         5.1|        3.5|         1.4|        0.2| setosa|        {26.01, 132.651}|              26.01|\n",
      "|         4.9|        3.0|         1.4|        0.2| setosa|        {24.01, 117.649}|              24.01|\n",
      "|         4.7|        3.2|         1.3|        0.2| setosa|        {22.09, 103.823}|              22.09|\n",
      "|         4.6|        3.1|         1.5|        0.2| setosa|         {21.16, 97.336}|              21.16|\n",
      "|         5.0|        3.6|         1.4|        0.2| setosa|           {25.0, 125.0}|               25.0|\n",
      "+------------+-----------+------------+-----------+-------+------------------------+-------------------+\n",
      "only showing top 5 rows\n",
      "\n"
     ]
    }
   ],
   "source": [
    "# <-- return type: note we have to provide column names as well\n",
    "@f.pandas_udf(\"square float, cube float\") \n",
    "def square_cube(df_col: pd.Series) -> pd.DataFrame: # type hints\n",
    "    sq = (df_col ** 2).values.reshape(-1, 1)\n",
    "    cube = (df_col ** 3).values.reshape(-1, 1)\n",
    "\n",
    "    return pd.DataFrame(data=np.hstack((sq, cube)))\n",
    "\n",
    "\n",
    "@f.pandas_udf(\"float\") # <-- return type\n",
    "def square(df_col: pd.Series) -> pd.DataFrame: # type hints\n",
    "    return (df_col ** 2)\n",
    "\n",
    "\n",
    "iris_op = (\n",
    "    iris\n",
    "    .withColumn('square_cube_sepal_length', square_cube('sepal_length'))\n",
    "    .withColumn('square_sepal_length', square('sepal_length'))\n",
    ")\n",
    "\n",
    "iris_op.show(5)"
   ]
  },
  {
   "cell_type": "markdown",
   "id": "93f4f6a3",
   "metadata": {},
   "source": [
    "#### Accessing individual components of struct columns"
   ]
  },
  {
   "cell_type": "code",
   "execution_count": 32,
   "id": "6537536c",
   "metadata": {},
   "outputs": [
    {
     "name": "stdout",
     "output_type": "stream",
     "text": [
      "+-------------------------------+\n",
      "|square_cube_sepal_length.square|\n",
      "+-------------------------------+\n",
      "|                          26.01|\n",
      "|                          24.01|\n",
      "|                          22.09|\n",
      "|                          21.16|\n",
      "|                           25.0|\n",
      "+-------------------------------+\n",
      "only showing top 5 rows\n",
      "\n"
     ]
    }
   ],
   "source": [
    "iris_op.select(f.col('square_cube_sepal_length').getField('square')).show(5)"
   ]
  },
  {
   "cell_type": "markdown",
   "id": "6446115a",
   "metadata": {},
   "source": [
    "### Series to Scalar"
   ]
  },
  {
   "cell_type": "code",
   "execution_count": 35,
   "id": "1164bd5e",
   "metadata": {},
   "outputs": [
    {
     "name": "stdout",
     "output_type": "stream",
     "text": [
      "+----------+--------------------+\n",
      "|   species|median(sepal_length)|\n",
      "+----------+--------------------+\n",
      "|    setosa|                 5.0|\n",
      "|versicolor|                 5.9|\n",
      "| virginica|                 6.5|\n",
      "+----------+--------------------+\n",
      "\n"
     ]
    },
    {
     "name": "stderr",
     "output_type": "stream",
     "text": [
      "\r",
      "[Stage 35:>                                                         (0 + 1) / 1]\r",
      "\r",
      "                                                                                \r"
     ]
    }
   ],
   "source": [
    "@f.pandas_udf(\"float\") # <-- return type\n",
    "def median(df_col: pd.Series) -> float: # type hints\n",
    "    return df_col.fillna(0).median()\n",
    "\n",
    "iris_op.groupBy('species').agg(median('sepal_length')).show()"
   ]
  },
  {
   "cell_type": "markdown",
   "id": "9da9b692",
   "metadata": {},
   "source": [
    "## [](https://spark.apache.org/docs/3.1.2/api/python/reference/api/pyspark.sql.GroupedData.applyInPandas.html#pyspark.sql.GroupedData.applyInPandas)"
   ]
  }
 ],
 "metadata": {
  "kernelspec": {
   "display_name": "Python 3 (ipykernel)",
   "language": "python",
   "name": "python3"
  },
  "language_info": {
   "codemirror_mode": {
    "name": "ipython",
    "version": 3
   },
   "file_extension": ".py",
   "mimetype": "text/x-python",
   "name": "python",
   "nbconvert_exporter": "python",
   "pygments_lexer": "ipython3",
   "version": "3.8.16"
  }
 },
 "nbformat": 4,
 "nbformat_minor": 5
}

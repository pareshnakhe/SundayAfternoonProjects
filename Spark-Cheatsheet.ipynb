{
 "cells": [
  {
   "cell_type": "markdown",
   "id": "b099e75c",
   "metadata": {},
   "source": [
    "## Common Usages of Pandas UDF\n",
    "\n",
    "Vectorized user defined functions that are executed by Spark using [Arrow](https://spark.apache.org/docs/latest/api/python/user_guide/sql/arrow_pandas.html) (to transfer to and from the Pandas format) together with the Pandas library. "
   ]
  },
  {
   "cell_type": "code",
   "execution_count": 1,
   "id": "2bdd861b",
   "metadata": {
    "scrolled": true
   },
   "outputs": [
    {
     "name": "stderr",
     "output_type": "stream",
     "text": [
      "Setting default log level to \"WARN\".\n",
      "To adjust logging level use sc.setLogLevel(newLevel). For SparkR, use setLogLevel(newLevel).\n",
      "23/06/08 16:18:13 WARN NativeCodeLoader: Unable to load native-hadoop library for your platform... using builtin-java classes where applicable\n",
      "[Stage 0:>                                                          (0 + 1) / 1]\r"
     ]
    },
    {
     "name": "stdout",
     "output_type": "stream",
     "text": [
      "+------------+-----------+------------+-----------+-------+\n",
      "|sepal_length|sepal_width|petal_length|petal_width|species|\n",
      "+------------+-----------+------------+-----------+-------+\n",
      "|         5.1|        3.5|         1.4|        0.2| setosa|\n",
      "|         4.9|        3.0|         1.4|        0.2| setosa|\n",
      "|         4.7|        3.2|         1.3|        0.2| setosa|\n",
      "|         4.6|        3.1|         1.5|        0.2| setosa|\n",
      "|         5.0|        3.6|         1.4|        0.2| setosa|\n",
      "+------------+-----------+------------+-----------+-------+\n",
      "only showing top 5 rows\n",
      "\n"
     ]
    },
    {
     "name": "stderr",
     "output_type": "stream",
     "text": [
      "\r",
      "                                                                                \r"
     ]
    }
   ],
   "source": [
    "import seaborn as sns\n",
    "import pandas as pd\n",
    "import numpy as np\n",
    "from pyspark.sql import SparkSession\n",
    "import pyspark.sql.functions as f\n",
    "\n",
    "spark = SparkSession.builder.getOrCreate()\n",
    "\n",
    "iris = spark.createDataFrame(sns.load_dataset('iris'))\n",
    "iris.show(5)"
   ]
  },
  {
   "cell_type": "markdown",
   "id": "76a9989e",
   "metadata": {},
   "source": [
    "## Vectorized operation on a single column\n",
    "\n",
    "### (Series --> Series)"
   ]
  },
  {
   "cell_type": "code",
   "execution_count": 30,
   "id": "f4f2708a",
   "metadata": {},
   "outputs": [
    {
     "name": "stdout",
     "output_type": "stream",
     "text": [
      "+------------+-----------+------------+-----------+-------+------------------------+-------------------+\n",
      "|sepal_length|sepal_width|petal_length|petal_width|species|square_cube_sepal_length|square_sepal_length|\n",
      "+------------+-----------+------------+-----------+-------+------------------------+-------------------+\n",
      "|         5.1|        3.5|         1.4|        0.2| setosa|        {26.01, 132.651}|              26.01|\n",
      "|         4.9|        3.0|         1.4|        0.2| setosa|        {24.01, 117.649}|              24.01|\n",
      "|         4.7|        3.2|         1.3|        0.2| setosa|        {22.09, 103.823}|              22.09|\n",
      "|         4.6|        3.1|         1.5|        0.2| setosa|         {21.16, 97.336}|              21.16|\n",
      "|         5.0|        3.6|         1.4|        0.2| setosa|           {25.0, 125.0}|               25.0|\n",
      "+------------+-----------+------------+-----------+-------+------------------------+-------------------+\n",
      "only showing top 5 rows\n",
      "\n"
     ]
    }
   ],
   "source": [
    "# <-- return type: note we have to provide column names as well\n",
    "@f.pandas_udf(\"square float, cube float\") \n",
    "def square_cube(df_col: pd.Series) -> pd.DataFrame: # type hints\n",
    "    sq = (df_col ** 2).values.reshape(-1, 1)\n",
    "    cube = (df_col ** 3).values.reshape(-1, 1)\n",
    "\n",
    "    return pd.DataFrame(data=np.hstack((sq, cube)))\n",
    "\n",
    "\n",
    "@f.pandas_udf(\"float\") # <-- return type\n",
    "def square(df_col: pd.Series) -> pd.DataFrame: # type hints\n",
    "    return (df_col ** 2)\n",
    "\n",
    "\n",
    "iris_op = (\n",
    "    iris\n",
    "    .withColumn('square_cube_sepal_length', square_cube('sepal_length'))\n",
    "    .withColumn('square_sepal_length', square('sepal_length'))\n",
    ")\n",
    "\n",
    "iris_op.show(5)"
   ]
  },
  {
   "cell_type": "markdown",
   "id": "8683fdf4",
   "metadata": {},
   "source": [
    "#### Accessing individual components of struct columns"
   ]
  },
  {
   "cell_type": "code",
   "execution_count": 32,
   "id": "f995c4b8",
   "metadata": {},
   "outputs": [
    {
     "name": "stdout",
     "output_type": "stream",
     "text": [
      "+-------------------------------+\n",
      "|square_cube_sepal_length.square|\n",
      "+-------------------------------+\n",
      "|                          26.01|\n",
      "|                          24.01|\n",
      "|                          22.09|\n",
      "|                          21.16|\n",
      "|                           25.0|\n",
      "+-------------------------------+\n",
      "only showing top 5 rows\n",
      "\n"
     ]
    }
   ],
   "source": [
    "iris_op.select(f.col('square_cube_sepal_length').getField('square')).show(5)"
   ]
  },
  {
   "cell_type": "markdown",
   "id": "decaed13",
   "metadata": {},
   "source": [
    "### Series to Scalar"
   ]
  },
  {
   "cell_type": "code",
   "execution_count": 35,
   "id": "3abb793e",
   "metadata": {},
   "outputs": [
    {
     "name": "stdout",
     "output_type": "stream",
     "text": [
      "+----------+--------------------+\n",
      "|   species|median(sepal_length)|\n",
      "+----------+--------------------+\n",
      "|    setosa|                 5.0|\n",
      "|versicolor|                 5.9|\n",
      "| virginica|                 6.5|\n",
      "+----------+--------------------+\n",
      "\n"
     ]
    },
    {
     "name": "stderr",
     "output_type": "stream",
     "text": [
      "23/06/08 16:49:18 WARN JavaUtils: Attempt to delete using native Unix OS command failed for path = /private/var/folders/k_/d027kgrj3lj8xpj7n_jfcv9c99m08y/T/blockmgr-955d0d92-6096-432a-a1e7-3ecd541f23ac. Falling back to Java IO way\n",
      "java.io.IOException: Failed to delete: /private/var/folders/k_/d027kgrj3lj8xpj7n_jfcv9c99m08y/T/blockmgr-955d0d92-6096-432a-a1e7-3ecd541f23ac\n",
      "\tat org.apache.spark.network.util.JavaUtils.deleteRecursivelyUsingUnixNative(JavaUtils.java:177)\n",
      "\tat org.apache.spark.network.util.JavaUtils.deleteRecursively(JavaUtils.java:113)\n",
      "\tat org.apache.spark.network.util.JavaUtils.deleteRecursively(JavaUtils.java:94)\n",
      "\tat org.apache.spark.util.Utils$.deleteRecursively(Utils.scala:1231)\n",
      "\tat org.apache.spark.storage.DiskBlockManager.$anonfun$doStop$1(DiskBlockManager.scala:368)\n",
      "\tat org.apache.spark.storage.DiskBlockManager.$anonfun$doStop$1$adapted(DiskBlockManager.scala:364)\n",
      "\tat scala.collection.IndexedSeqOptimized.foreach(IndexedSeqOptimized.scala:36)\n",
      "\tat scala.collection.IndexedSeqOptimized.foreach$(IndexedSeqOptimized.scala:33)\n",
      "\tat scala.collection.mutable.ArrayOps$ofRef.foreach(ArrayOps.scala:198)\n",
      "\tat org.apache.spark.storage.DiskBlockManager.doStop(DiskBlockManager.scala:364)\n",
      "\tat org.apache.spark.storage.DiskBlockManager.stop(DiskBlockManager.scala:359)\n",
      "\tat org.apache.spark.storage.BlockManager.stop(BlockManager.scala:2052)\n",
      "\tat org.apache.spark.SparkEnv.stop(SparkEnv.scala:95)\n",
      "\tat org.apache.spark.SparkContext.$anonfun$stop$25(SparkContext.scala:2175)\n",
      "\tat org.apache.spark.util.Utils$.tryLogNonFatalError(Utils.scala:1509)\n",
      "\tat org.apache.spark.SparkContext.stop(SparkContext.scala:2175)\n",
      "\tat org.apache.spark.SparkContext.stop(SparkContext.scala:2081)\n",
      "\tat org.apache.spark.SparkContext.$anonfun$new$31(SparkContext.scala:664)\n",
      "\tat org.apache.spark.util.SparkShutdownHook.run(ShutdownHookManager.scala:214)\n",
      "\tat org.apache.spark.util.SparkShutdownHookManager.$anonfun$runAll$2(ShutdownHookManager.scala:188)\n",
      "\tat scala.runtime.java8.JFunction0$mcV$sp.apply(JFunction0$mcV$sp.java:23)\n",
      "\tat org.apache.spark.util.Utils$.logUncaughtExceptions(Utils.scala:2088)\n",
      "\tat org.apache.spark.util.SparkShutdownHookManager.$anonfun$runAll$1(ShutdownHookManager.scala:188)\n",
      "\tat scala.runtime.java8.JFunction0$mcV$sp.apply(JFunction0$mcV$sp.java:23)\n",
      "\tat scala.util.Try$.apply(Try.scala:213)\n",
      "\tat org.apache.spark.util.SparkShutdownHookManager.runAll(ShutdownHookManager.scala:188)\n",
      "\tat org.apache.spark.util.SparkShutdownHookManager$$anon$2.run(ShutdownHookManager.scala:178)\n",
      "\tat java.util.concurrent.Executors$RunnableAdapter.call(Executors.java:511)\n",
      "\tat java.util.concurrent.FutureTask.run(FutureTask.java:266)\n",
      "\tat java.util.concurrent.ThreadPoolExecutor.runWorker(ThreadPoolExecutor.java:1149)\n",
      "\tat java.util.concurrent.ThreadPoolExecutor$Worker.run(ThreadPoolExecutor.java:624)\n",
      "\tat java.lang.Thread.run(Thread.java:750)\n",
      "----------------------------------------\n",
      "Exception happened during processing of request from ('127.0.0.1', 63061)\n",
      "Traceback (most recent call last):\n",
      "  File \"/Users/pnakhe/.pyenv/versions/3.8.16/lib/python3.8/socketserver.py\", line 316, in _handle_request_noblock\n",
      "    self.process_request(request, client_address)\n",
      "  File \"/Users/pnakhe/.pyenv/versions/3.8.16/lib/python3.8/socketserver.py\", line 347, in process_request\n",
      "    self.finish_request(request, client_address)\n",
      "  File \"/Users/pnakhe/.pyenv/versions/3.8.16/lib/python3.8/socketserver.py\", line 360, in finish_request\n",
      "    self.RequestHandlerClass(request, client_address, self)\n",
      "  File \"/Users/pnakhe/.pyenv/versions/3.8.16/lib/python3.8/socketserver.py\", line 747, in __init__\n",
      "    self.handle()\n",
      "  File \"/Users/pnakhe/.pyenv/versions/3816_word2vec/lib/python3.8/site-packages/pyspark/accumulators.py\", line 281, in handle\n",
      "    poll(accum_updates)\n",
      "  File \"/Users/pnakhe/.pyenv/versions/3816_word2vec/lib/python3.8/site-packages/pyspark/accumulators.py\", line 253, in poll\n",
      "    if func():\n",
      "  File \"/Users/pnakhe/.pyenv/versions/3816_word2vec/lib/python3.8/site-packages/pyspark/accumulators.py\", line 257, in accum_updates\n",
      "    num_updates = read_int(self.rfile)\n",
      "  File \"/Users/pnakhe/.pyenv/versions/3816_word2vec/lib/python3.8/site-packages/pyspark/serializers.py\", line 596, in read_int\n",
      "    raise EOFError\n",
      "EOFError\n",
      "----------------------------------------\n"
     ]
    }
   ],
   "source": [
    "@f.pandas_udf(\"float\") # <-- return type\n",
    "def median(df_col: pd.Series) -> float: # type hints\n",
    "    return df_col.fillna(0).median()\n",
    "\n",
    "iris_op.groupBy('species').agg(median('sepal_length')).show()"
   ]
  },
  {
   "cell_type": "markdown",
   "id": "fb4261c3",
   "metadata": {},
   "source": [
    "## [GroupedData.applyInPandas](https://spark.apache.org/docs/3.1.2/api/python/reference/api/pyspark.sql.GroupedData.applyInPandas.html#pyspark.sql.GroupedData.applyInPandas)"
   ]
  },
  {
   "cell_type": "markdown",
   "id": "5f50d82f",
   "metadata": {},
   "source": [
    "## Windowing Functions"
   ]
  }
 ],
 "metadata": {
  "kernelspec": {
   "display_name": "Python 3 (ipykernel)",
   "language": "python",
   "name": "python3"
  },
  "language_info": {
   "codemirror_mode": {
    "name": "ipython",
    "version": 3
   },
   "file_extension": ".py",
   "mimetype": "text/x-python",
   "name": "python",
   "nbconvert_exporter": "python",
   "pygments_lexer": "ipython3",
   "version": "3.8.16"
  }
 },
 "nbformat": 4,
 "nbformat_minor": 5
}

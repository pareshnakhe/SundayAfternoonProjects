{
 "cells": [
  {
   "cell_type": "markdown",
   "id": "e8e4d642-d096-4df7-b54d-157b23406130",
   "metadata": {},
   "source": [
    "# [What is torch.nn really?](https://pytorch.org/tutorials/beginner/nn_tutorial.html)\n",
    "\n",
    "Useful links:\n",
    "- [Autograd Mechanics](https://pytorch.org/docs/stable/notes/autograd.html) + [Video](https://www.youtube.com/watch?v=MswxJw-8PvE)\n",
    "- [Modules](https://pytorch.org/docs/stable/notes/modules.html)\n",
    "- Complete example: [MNIST Sample notebook](https://github.com/fastai/fastai_dev/blob/master/dev_nb/mnist_sample.ipynb)"
   ]
  },
  {
   "cell_type": "code",
   "execution_count": 1,
   "id": "2a44d544-2580-4f29-a52b-47567564f5a8",
   "metadata": {},
   "outputs": [],
   "source": [
    "from pathlib import Path\n",
    "import requests\n",
    "\n",
    "DATA_PATH = Path(\"data\")\n",
    "PATH = DATA_PATH / \"mnist\"\n",
    "\n",
    "PATH.mkdir(parents=True, exist_ok=True)\n",
    "\n",
    "URL = \"https://github.com/pytorch/tutorials/raw/main/_static/\"\n",
    "FILENAME = \"mnist.pkl.gz\"\n",
    "\n",
    "if not (PATH / FILENAME).exists():\n",
    "        content = requests.get(URL + FILENAME).content\n",
    "        (PATH / FILENAME).open(\"wb\").write(content)"
   ]
  },
  {
   "cell_type": "code",
   "execution_count": 2,
   "id": "35f55b47-5947-48b9-ae9e-3e824a62d85b",
   "metadata": {},
   "outputs": [],
   "source": [
    "import pickle\n",
    "import gzip\n",
    "\n",
    "with gzip.open((PATH / FILENAME).as_posix(), \"rb\") as f:\n",
    "        ((x_train, y_train), (x_valid, y_valid), _) = pickle.load(f, encoding=\"latin-1\")"
   ]
  },
  {
   "cell_type": "code",
   "execution_count": 3,
   "id": "70790069-724a-4f43-b8f9-50c6596ea376",
   "metadata": {},
   "outputs": [
    {
     "data": {
      "text/plain": [
       "<matplotlib.image.AxesImage at 0x1160e59d0>"
      ]
     },
     "execution_count": 3,
     "metadata": {},
     "output_type": "execute_result"
    },
    {
     "data": {
      "image/png": "[encoded data removed]",
      "text/plain": [
       "<Figure size 640x480 with 1 Axes>"
      ]
     },
     "metadata": {},
     "output_type": "display_data"
    }
   ],
   "source": [
    "from matplotlib import pyplot\n",
    "import numpy as np\n",
    "\n",
    "pyplot.imshow(x_train[20].reshape((28, 28)), cmap=\"gray\")"
   ]
  },
  {
   "cell_type": "code",
   "execution_count": 4,
   "id": "f8cf8d70-b5e8-4ab0-b6b7-0591e4af3efb",
   "metadata": {},
   "outputs": [
    {
     "data": {
      "text/plain": [
       "torch.Size([50000, 784])"
      ]
     },
     "execution_count": 4,
     "metadata": {},
     "output_type": "execute_result"
    }
   ],
   "source": [
    "import torch\n",
    "\n",
    "x_train, y_train, x_valid, y_valid = map(\n",
    "    torch.tensor, [x_train, y_train, x_valid, y_valid]\n",
    ")\n",
    "\n",
    "x_train.shape"
   ]
  },
  {
   "cell_type": "markdown",
   "id": "366c7270-53c0-4dda-9bd1-b41115ba14e4",
   "metadata": {},
   "source": [
    "## Neural Net from Scratch"
   ]
  },
  {
   "cell_type": "code",
   "execution_count": 22,
   "id": "ef7d167e-bce7-4eaf-a841-91d3bd426cee",
   "metadata": {},
   "outputs": [],
   "source": [
    "import math\n",
    "\n",
    "weights = torch.randn(784, 10) / math.sqrt(784)\n",
    "weights.requires_grad_()\n",
    "bias = torch.zeros(10, requires_grad=True)"
   ]
  },
  {
   "cell_type": "markdown",
   "id": "b21b07b9-3529-4215-bf7a-4ef2afe59b93",
   "metadata": {},
   "source": [
    "A tensor has multiple dimensions. There is a forward and backward indexing. Forward indexing uses positive integers, backward indexing uses negative integers.\n",
    "\n",
    "Example:\n",
    "\n",
    "- 1 will be the last one, in our case it will be dim=2<br>\n",
    "- 2 will be dim=1<br>\n",
    "- 3 will be dim=0<br>"
   ]
  },
  {
   "cell_type": "code",
   "execution_count": 23,
   "id": "6035fa7b-74fa-4c8c-9574-92a9dd1d06e4",
   "metadata": {},
   "outputs": [],
   "source": [
    "def log_softmax(x):\n",
    "    # sum(-1) is summing the entire row\n",
    "    # unsqueeze(-1) adds another dimension \"at the end\"\n",
    "    return x - x.exp().sum(-1).log().unsqueeze(-1)\n",
    "\n",
    "\n",
    "def model(xb):\n",
    "    return log_softmax(xb @ weights + bias)\n",
    "\n",
    "\n",
    "\"\"\"\n",
    "We are breaking some autograd mechanics by implementing this function\n",
    "the following way\n",
    "\"\"\"\n",
    "# def nll(input, target):\n",
    "#     # input: tensor with shape (n_samples * 10)\n",
    "#     # target: tensor with shape (n_samples). Each element in target is in [0, 9]\n",
    "#     batch_size = target.shape[0]\n",
    "#     itr = zip(range(batch_size), yb)\n",
    "#     return -torch.tensor([preds[x, y] for x, y in itr], requires_grad=True).mean()\n",
    "\n",
    "# this function is extremely unintuitive\n",
    "def nll(input, target):\n",
    "    return -input[range(target.shape[0]), target].mean()\n",
    "\n",
    "\n",
    "def accuracy(out, yb):\n",
    "    preds = torch.argmax(out, dim=1)\n",
    "    return (preds == yb).float().mean()"
   ]
  },
  {
   "cell_type": "code",
   "execution_count": 25,
   "id": "c5635c05-0279-4ee5-ba57-66831068522f",
   "metadata": {},
   "outputs": [],
   "source": [
    "from IPython.core.debugger import set_trace\n",
    "\n",
    "lr = 0.5\n",
    "epochs = 2\n",
    "loss_func = nll\n",
    "bs = 64  # batch size\n",
    "\n",
    "for epoch in range(epochs):\n",
    "    for batch in range(x_train.shape[0] // bs):\n",
    "        # set_trace()\n",
    "        start_i = batch * bs\n",
    "        end_i = start_i + 64\n",
    "\n",
    "        xb = x_train[start_i:end_i]\n",
    "        yb = y_train[start_i:end_i]\n",
    "\n",
    "        preds = model(xb)\n",
    "        loss = loss_func(preds, yb)\n",
    "\n",
    "        # this will compute the gradient of the loss function\n",
    "        # wrt each weight and bias\n",
    "        loss.backward()\n",
    "\n",
    "        with torch.no_grad():\n",
    "            weights -= weights.grad * lr\n",
    "            bias -= bias.grad * lr\n",
    "            # need to set the gradients to zero otherwise the gradients are added\n",
    "            weights.grad.zero_()\n",
    "            bias.grad.zero_()"
   ]
  },
  {
   "cell_type": "code",
   "execution_count": 26,
   "id": "f8a938ca-f5af-47e3-8dc2-0f32c8dcc2fd",
   "metadata": {},
   "outputs": [
    {
     "name": "stdout",
     "output_type": "stream",
     "text": [
      "tensor(0.1448, grad_fn=<NegBackward0>) tensor(0.9531)\n"
     ]
    }
   ],
   "source": [
    "print(loss_func(model(xb), yb), accuracy(model(xb), yb))"
   ]
  },
  {
   "cell_type": "markdown",
   "id": "cd9285c2-fc85-4495-84b3-2748b8644bae",
   "metadata": {},
   "source": [
    "## Refactored - V1 (torch.nn)"
   ]
  },
  {
   "cell_type": "code",
   "execution_count": 29,
   "id": "9b36abd2-3d0d-400c-9270-deb005de5f7f",
   "metadata": {},
   "outputs": [],
   "source": [
    "xb = x_train[0:bs]\n",
    "yb = y_train[0:bs]"
   ]
  },
  {
   "cell_type": "code",
   "execution_count": 31,
   "id": "4f2af9a6-9d22-45e2-a85e-4fc302c09964",
   "metadata": {},
   "outputs": [
    {
     "name": "stdout",
     "output_type": "stream",
     "text": [
      "tensor(2.4257, grad_fn=<NllLossBackward0>)\n"
     ]
    }
   ],
   "source": [
    "import torch.nn.functional as F\n",
    "from torch import nn\n",
    "\n",
    "class Mnist_Logistic(nn.Module):\n",
    "    def __init__(self):\n",
    "        super().__init__()\n",
    "        self.weights = nn.Parameter(torch.randn(784, 10) / math.sqrt(784))\n",
    "        self.bias = nn.Parameter(torch.zeros(10))\n",
    "\n",
    "    def forward(self, xb):\n",
    "        return xb @ self.weights + self.bias\n",
    "\n",
    "\n",
    "model = Mnist_Logistic()\n",
    "loss_function = F.cross_entropy\n",
    "\n",
    "print(loss_function(model(xb), yb))"
   ]
  },
  {
   "cell_type": "markdown",
   "id": "a3b625d6-99a2-4a8b-a6c2-c05ed5bf9972",
   "metadata": {},
   "source": [
    "## Refactored - V2 (nn.Linear)"
   ]
  },
  {
   "cell_type": "code",
   "execution_count": 38,
   "id": "caea6c65-045e-4022-959a-70d18cd3aca3",
   "metadata": {},
   "outputs": [
    {
     "name": "stdout",
     "output_type": "stream",
     "text": [
      "tensor(2.3588, grad_fn=<NllLossBackward0>)\n"
     ]
    }
   ],
   "source": [
    "class Mnist_Logistic(nn.Module):\n",
    "    def __init__(self):\n",
    "        super().__init__()\n",
    "        self.lin = nn.Linear(784, 10)\n",
    "\n",
    "    def forward(self, xb):\n",
    "        return self.lin(xb)\n",
    "\n",
    "\n",
    "model = Mnist_Logistic()\n",
    "cross_entropy_loss = F.cross_entropy\n",
    "\n",
    "print(cross_entropy_loss(model(xb), yb))"
   ]
  },
  {
   "cell_type": "markdown",
   "id": "a17a7b8a-fb02-4893-a9e2-5e3b64b701c4",
   "metadata": {},
   "source": [
    "## Refactored - V3 (torch.optim)"
   ]
  },
  {
   "cell_type": "code",
   "execution_count": 42,
   "id": "4a864135-5075-448d-bf3f-84f420828b2d",
   "metadata": {},
   "outputs": [
    {
     "name": "stdout",
     "output_type": "stream",
     "text": [
      "tensor(2.2948, grad_fn=<NllLossBackward0>)\n",
      "0.23411674797534943\n",
      "0.20798861980438232\n",
      "tensor(0.1438, grad_fn=<NllLossBackward0>)\n"
     ]
    }
   ],
   "source": [
    "from torch import optim\n",
    "\n",
    "\n",
    "def get_model():\n",
    "    model = Mnist_Logistic()\n",
    "    return model, optim.SGD(model.parameters(), lr=lr)\n",
    "\n",
    "model, opt = get_model()\n",
    "print(cross_entropy_loss(model(xb), yb))\n",
    "\n",
    "for epoch in range(epochs):\n",
    "    for batch in range(x_train.shape[0] // bs):\n",
    "        start_i = batch * bs\n",
    "        end_i = start_i + 64\n",
    "        xb = x_train[start_i:end_i]\n",
    "        yb = y_train[start_i:end_i]\n",
    "        pred = model(xb)\n",
    "        loss = cross_entropy_loss(pred, yb)\n",
    "\n",
    "        loss.backward()\n",
    "        # no need to manually write the gradient descent step\n",
    "        opt.step()\n",
    "        opt.zero_grad()\n",
    "    print(loss.item())\n",
    "\n",
    "print(cross_entropy_loss(model(xb), yb))"
   ]
  },
  {
   "cell_type": "markdown",
   "id": "734c460d-a911-44ed-ab73-daa8b9281579",
   "metadata": {},
   "source": [
    "## Refactored - V4 (TensorDataset)\n",
    "\n",
    "`Dataset`: An abstract interface of objects with a `__len__` and a `__getitem__`, including classes provided with Pytorch such as `TensorDataset`\n",
    "\n",
    "`DataLoader`: Takes any `Dataset` and creates an iterator which returns batches of data.\n",
    "\n",
    "[Tutorial](https://pytorch.org/tutorials/beginner/data_loading_tutorial.html) to create a customer `dataset`"
   ]
  },
  {
   "cell_type": "code",
   "execution_count": 43,
   "id": "d08731c3-f6e3-4af2-9a8c-9603c797ff19",
   "metadata": {},
   "outputs": [
    {
     "name": "stdout",
     "output_type": "stream",
     "text": [
      "tensor(2.3626, grad_fn=<NllLossBackward0>)\n",
      "0.23225146532058716\n",
      "0.2066015899181366\n",
      "tensor(0.1434, grad_fn=<NllLossBackward0>)\n"
     ]
    }
   ],
   "source": [
    "from torch.utils.data import TensorDataset, DataLoader\n",
    "\n",
    "train_ds = TensorDataset(x_train, y_train)\n",
    "train_dl = DataLoader(train_ds, batch_size=bs)\n",
    "\n",
    "model, opt = get_model()\n",
    "print(cross_entropy_loss(model(xb), yb))\n",
    "\n",
    "for epoch in range(epochs):\n",
    "    for xb, yb in train_dl:\n",
    "        pred = model(xb)\n",
    "        loss = cross_entropy_loss(pred, yb)\n",
    "\n",
    "        loss.backward()\n",
    "        opt.step()\n",
    "        opt.zero_grad()\n",
    "    print(loss.item())\n",
    "\n",
    "print(cross_entropy_loss(model(xb), yb))"
   ]
  },
  {
   "cell_type": "code",
   "execution_count": 44,
   "id": "3aee3a9f-bba1-4a08-a57f-1b559d86d9be",
   "metadata": {},
   "outputs": [
    {
     "name": "stdout",
     "output_type": "stream",
     "text": [
      "Help on method eval in module torch.nn.modules.module:\n",
      "\n",
      "eval() -> ~T method of __main__.Mnist_Logistic instance\n",
      "    Set the module in evaluation mode.\n",
      "    \n",
      "    This has any effect only on certain modules. See documentations of\n",
      "    particular modules for details of their behaviors in training/evaluation\n",
      "    mode, if they are affected, e.g. :class:`Dropout`, :class:`BatchNorm`,\n",
      "    etc.\n",
      "    \n",
      "    This is equivalent with :meth:`self.train(False) <torch.nn.Module.train>`.\n",
      "    \n",
      "    See :ref:`locally-disable-grad-doc` for a comparison between\n",
      "    `.eval()` and several similar mechanisms that may be confused with it.\n",
      "    \n",
      "    Returns:\n",
      "        Module: self\n",
      "\n"
     ]
    }
   ],
   "source": [
    "help(model.eval)"
   ]
  }
 ],
 "metadata": {
  "kernelspec": {
   "display_name": "Python 3 (ipykernel)",
   "language": "python",
   "name": "python3"
  },
  "language_info": {
   "codemirror_mode": {
    "name": "ipython",
    "version": 3
   },
   "file_extension": ".py",
   "mimetype": "text/x-python",
   "name": "python",
   "nbconvert_exporter": "python",
   "pygments_lexer": "ipython3",
   "version": "3.8.16"
  }
 },
 "nbformat": 4,
 "nbformat_minor": 5
}
